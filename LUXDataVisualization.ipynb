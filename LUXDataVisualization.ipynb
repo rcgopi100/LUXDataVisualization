{
 "cells": [
  {
   "cell_type": "code",
   "execution_count": 1,
   "metadata": {},
   "outputs": [
    {
     "name": "stdout",
     "output_type": "stream",
     "text": [
      "Requirement already satisfied: lux-api in c:\\users\\gchandr4\\anaconda3\\lib\\site-packages (0.3.1)Note: you may need to restart the kernel to use updated packages.\n",
      "Requirement already satisfied: numpy>=1.16.5 in c:\\users\\gchandr4\\anaconda3\\lib\\site-packages (from lux-api) (1.19.1)\n",
      "Requirement already satisfied: iso3166 in c:\\users\\gchandr4\\anaconda3\\lib\\site-packages (from lux-api) (1.0.1)\n",
      "Requirement already satisfied: pandas>=1.2.0 in c:\\users\\gchandr4\\anaconda3\\lib\\site-packages (from lux-api) (1.2.5)\n",
      "Requirement already satisfied: scipy>=1.3.3 in c:\\users\\gchandr4\\anaconda3\\lib\\site-packages (from lux-api) (1.5.4)\n",
      "Requirement already satisfied: lux-widget>=0.1.4 in c:\\users\\gchandr4\\anaconda3\\lib\\site-packages (from lux-api) (0.1.6)\n",
      "Requirement already satisfied: matplotlib>=3.0.0 in c:\\users\\gchandr4\\anaconda3\\lib\\site-packages (from lux-api) (3.3.2)\n",
      "Requirement already satisfied: altair>=4.0.0 in c:\\users\\gchandr4\\anaconda3\\lib\\site-packages (from lux-api) (4.1.0)\n",
      "Requirement already satisfied: scikit-learn>=0.22 in c:\\users\\gchandr4\\anaconda3\\lib\\site-packages (from lux-api) (0.23.1)\n",
      "Requirement already satisfied: python-dateutil>=2.7.3 in c:\\users\\gchandr4\\anaconda3\\lib\\site-packages (from pandas>=1.2.0->lux-api) (2.8.1)\n",
      "Requirement already satisfied: pytz>=2017.3 in c:\\users\\gchandr4\\anaconda3\\lib\\site-packages (from pandas>=1.2.0->lux-api) (2020.1)\n",
      "Requirement already satisfied: ipywidgets>=7.5.0 in c:\\users\\gchandr4\\anaconda3\\lib\\site-packages (from lux-widget>=0.1.4->lux-api) (7.5.1)\n",
      "Requirement already satisfied: notebook>=4.0.0 in c:\\users\\gchandr4\\anaconda3\\lib\\site-packages (from lux-widget>=0.1.4->lux-api) (6.1.4)\n",
      "Requirement already satisfied: cycler>=0.10 in c:\\users\\gchandr4\\anaconda3\\lib\\site-packages (from matplotlib>=3.0.0->lux-api) (0.10.0)\n",
      "Requirement already satisfied: kiwisolver>=1.0.1 in c:\\users\\gchandr4\\anaconda3\\lib\\site-packages (from matplotlib>=3.0.0->lux-api) (1.3.0)\n",
      "Requirement already satisfied: pyparsing!=2.0.4,!=2.1.2,!=2.1.6,>=2.0.3 in c:\\users\\gchandr4\\anaconda3\\lib\\site-packages (from matplotlib>=3.0.0->lux-api) (2.4.7)\n",
      "Requirement already satisfied: pillow>=6.2.0 in c:\\users\\gchandr4\\anaconda3\\lib\\site-packages (from matplotlib>=3.0.0->lux-api) (8.0.1)\n",
      "Requirement already satisfied: certifi>=2020.06.20 in c:\\users\\gchandr4\\anaconda3\\lib\\site-packages (from matplotlib>=3.0.0->lux-api) (2020.6.20)\n",
      "Requirement already satisfied: jinja2 in c:\\users\\gchandr4\\anaconda3\\lib\\site-packages (from altair>=4.0.0->lux-api) (2.11.2)\n",
      "Requirement already satisfied: toolz in c:\\users\\gchandr4\\anaconda3\\lib\\site-packages (from altair>=4.0.0->lux-api) (0.11.1)\n",
      "Requirement already satisfied: jsonschema in c:\\users\\gchandr4\\anaconda3\\lib\\site-packages (from altair>=4.0.0->lux-api) (3.2.0)\n",
      "Requirement already satisfied: entrypoints in c:\\users\\gchandr4\\anaconda3\\lib\\site-packages (from altair>=4.0.0->lux-api) (0.3)\n",
      "Requirement already satisfied: joblib>=0.11 in c:\\users\\gchandr4\\anaconda3\\lib\\site-packages (from scikit-learn>=0.22->lux-api) (1.0.0)\n",
      "Requirement already satisfied: threadpoolctl>=2.0.0 in c:\\users\\gchandr4\\anaconda3\\lib\\site-packages (from scikit-learn>=0.22->lux-api) (2.1.0)\n",
      "Requirement already satisfied: six>=1.5 in c:\\users\\gchandr4\\anaconda3\\lib\\site-packages (from python-dateutil>=2.7.3->pandas>=1.2.0->lux-api) (1.15.0)\n",
      "Requirement already satisfied: nbformat>=4.2.0 in c:\\users\\gchandr4\\anaconda3\\lib\\site-packages (from ipywidgets>=7.5.0->lux-widget>=0.1.4->lux-api) (5.0.8)\n",
      "Requirement already satisfied: widgetsnbextension~=3.5.0 in c:\\users\\gchandr4\\anaconda3\\lib\\site-packages (from ipywidgets>=7.5.0->lux-widget>=0.1.4->lux-api) (3.5.1)\n",
      "Requirement already satisfied: ipykernel>=4.5.1 in c:\\users\\gchandr4\\anaconda3\\lib\\site-packages (from ipywidgets>=7.5.0->lux-widget>=0.1.4->lux-api) (5.3.4)\n",
      "Requirement already satisfied: traitlets>=4.3.1 in c:\\users\\gchandr4\\anaconda3\\lib\\site-packages (from ipywidgets>=7.5.0->lux-widget>=0.1.4->lux-api) (5.0.5)\n",
      "Requirement already satisfied: ipython>=4.0.0; python_version >= \"3.3\" in c:\\users\\gchandr4\\anaconda3\\lib\\site-packages (from ipywidgets>=7.5.0->lux-widget>=0.1.4->lux-api) (7.19.0)\n",
      "Requirement already satisfied: terminado>=0.8.3 in c:\\users\\gchandr4\\anaconda3\\lib\\site-packages (from notebook>=4.0.0->lux-widget>=0.1.4->lux-api) (0.9.1)\n",
      "Requirement already satisfied: jupyter-core>=4.6.1 in c:\\users\\gchandr4\\anaconda3\\lib\\site-packages (from notebook>=4.0.0->lux-widget>=0.1.4->lux-api) (4.6.3)\n",
      "Requirement already satisfied: Send2Trash in c:\\users\\gchandr4\\anaconda3\\lib\\site-packages (from notebook>=4.0.0->lux-widget>=0.1.4->lux-api) (1.5.0)\n",
      "Requirement already satisfied: prometheus-client in c:\\users\\gchandr4\\anaconda3\\lib\\site-packages (from notebook>=4.0.0->lux-widget>=0.1.4->lux-api) (0.8.0)\n",
      "Requirement already satisfied: tornado>=5.0 in c:\\users\\gchandr4\\anaconda3\\lib\\site-packages (from notebook>=4.0.0->lux-widget>=0.1.4->lux-api) (6.0.4)\n",
      "Requirement already satisfied: pyzmq>=17 in c:\\users\\gchandr4\\anaconda3\\lib\\site-packages (from notebook>=4.0.0->lux-widget>=0.1.4->lux-api) (19.0.2)\n",
      "Requirement already satisfied: nbconvert in c:\\users\\gchandr4\\anaconda3\\lib\\site-packages (from notebook>=4.0.0->lux-widget>=0.1.4->lux-api) (6.0.7)\n",
      "Requirement already satisfied: ipython-genutils in c:\\users\\gchandr4\\anaconda3\\lib\\site-packages (from notebook>=4.0.0->lux-widget>=0.1.4->lux-api) (0.2.0)\n",
      "Requirement already satisfied: argon2-cffi in c:\\users\\gchandr4\\anaconda3\\lib\\site-packages (from notebook>=4.0.0->lux-widget>=0.1.4->lux-api) (20.1.0)\n",
      "Requirement already satisfied: jupyter-client>=5.3.4 in c:\\users\\gchandr4\\anaconda3\\lib\\site-packages (from notebook>=4.0.0->lux-widget>=0.1.4->lux-api) (6.1.7)\n",
      "Requirement already satisfied: MarkupSafe>=0.23 in c:\\users\\gchandr4\\anaconda3\\lib\\site-packages (from jinja2->altair>=4.0.0->lux-api) (1.1.1)\n",
      "Requirement already satisfied: attrs>=17.4.0 in c:\\users\\gchandr4\\anaconda3\\lib\\site-packages (from jsonschema->altair>=4.0.0->lux-api) (20.3.0)\n",
      "Requirement already satisfied: pyrsistent>=0.14.0 in c:\\users\\gchandr4\\anaconda3\\lib\\site-packages (from jsonschema->altair>=4.0.0->lux-api) (0.17.3)\n",
      "Requirement already satisfied: setuptools in c:\\users\\gchandr4\\anaconda3\\lib\\site-packages (from jsonschema->altair>=4.0.0->lux-api) (50.3.1.post20201107)\n",
      "Requirement already satisfied: prompt-toolkit!=3.0.0,!=3.0.1,<3.1.0,>=2.0.0 in c:\\users\\gchandr4\\anaconda3\\lib\\site-packages (from ipython>=4.0.0; python_version >= \"3.3\"->ipywidgets>=7.5.0->lux-widget>=0.1.4->lux-api) (3.0.8)\n",
      "Requirement already satisfied: jedi>=0.10 in c:\\users\\gchandr4\\anaconda3\\lib\\site-packages (from ipython>=4.0.0; python_version >= \"3.3\"->ipywidgets>=7.5.0->lux-widget>=0.1.4->lux-api) (0.17.1)\n",
      "Requirement already satisfied: colorama; sys_platform == \"win32\" in c:\\users\\gchandr4\\anaconda3\\lib\\site-packages (from ipython>=4.0.0; python_version >= \"3.3\"->ipywidgets>=7.5.0->lux-widget>=0.1.4->lux-api) (0.4.4)\n",
      "Requirement already satisfied: backcall in c:\\users\\gchandr4\\anaconda3\\lib\\site-packages (from ipython>=4.0.0; python_version >= \"3.3\"->ipywidgets>=7.5.0->lux-widget>=0.1.4->lux-api) (0.2.0)\n",
      "Requirement already satisfied: decorator in c:\\users\\gchandr4\\anaconda3\\lib\\site-packages (from ipython>=4.0.0; python_version >= \"3.3\"->ipywidgets>=7.5.0->lux-widget>=0.1.4->lux-api) (4.4.2)\n",
      "Requirement already satisfied: pygments in c:\\users\\gchandr4\\anaconda3\\lib\\site-packages (from ipython>=4.0.0; python_version >= \"3.3\"->ipywidgets>=7.5.0->lux-widget>=0.1.4->lux-api) (2.7.2)\n",
      "Requirement already satisfied: pickleshare in c:\\users\\gchandr4\\anaconda3\\lib\\site-packages (from ipython>=4.0.0; python_version >= \"3.3\"->ipywidgets>=7.5.0->lux-widget>=0.1.4->lux-api) (0.7.5)\n",
      "Requirement already satisfied: pywinpty>=0.5 in c:\\users\\gchandr4\\anaconda3\\lib\\site-packages (from terminado>=0.8.3->notebook>=4.0.0->lux-widget>=0.1.4->lux-api) (0.5.7)\n",
      "Requirement already satisfied: pywin32>=1.0; sys_platform == \"win32\" in c:\\users\\gchandr4\\anaconda3\\lib\\site-packages (from jupyter-core>=4.6.1->notebook>=4.0.0->lux-widget>=0.1.4->lux-api) (227)\n",
      "Requirement already satisfied: bleach in c:\\users\\gchandr4\\anaconda3\\lib\\site-packages (from nbconvert->notebook>=4.0.0->lux-widget>=0.1.4->lux-api) (3.2.1)\n",
      "Requirement already satisfied: defusedxml in c:\\users\\gchandr4\\anaconda3\\lib\\site-packages (from nbconvert->notebook>=4.0.0->lux-widget>=0.1.4->lux-api) (0.6.0)\n",
      "Requirement already satisfied: testpath in c:\\users\\gchandr4\\anaconda3\\lib\\site-packages (from nbconvert->notebook>=4.0.0->lux-widget>=0.1.4->lux-api) (0.4.4)\n",
      "Requirement already satisfied: mistune<2,>=0.8.1 in c:\\users\\gchandr4\\anaconda3\\lib\\site-packages (from nbconvert->notebook>=4.0.0->lux-widget>=0.1.4->lux-api) (0.8.4)\n",
      "Requirement already satisfied: jupyterlab-pygments in c:\\users\\gchandr4\\anaconda3\\lib\\site-packages (from nbconvert->notebook>=4.0.0->lux-widget>=0.1.4->lux-api) (0.1.2)\n",
      "Requirement already satisfied: nbclient<0.6.0,>=0.5.0 in c:\\users\\gchandr4\\anaconda3\\lib\\site-packages (from nbconvert->notebook>=4.0.0->lux-widget>=0.1.4->lux-api) (0.5.1)\n",
      "Requirement already satisfied: pandocfilters>=1.4.1 in c:\\users\\gchandr4\\anaconda3\\lib\\site-packages (from nbconvert->notebook>=4.0.0->lux-widget>=0.1.4->lux-api) (1.4.3)\n",
      "Requirement already satisfied: cffi>=1.0.0 in c:\\users\\gchandr4\\anaconda3\\lib\\site-packages (from argon2-cffi->notebook>=4.0.0->lux-widget>=0.1.4->lux-api) (1.14.3)\n",
      "Requirement already satisfied: wcwidth in c:\\users\\gchandr4\\anaconda3\\lib\\site-packages (from prompt-toolkit!=3.0.0,!=3.0.1,<3.1.0,>=2.0.0->ipython>=4.0.0; python_version >= \"3.3\"->ipywidgets>=7.5.0->lux-widget>=0.1.4->lux-api) (0.2.5)\n",
      "Requirement already satisfied: parso<0.8.0,>=0.7.0 in c:\\users\\gchandr4\\anaconda3\\lib\\site-packages (from jedi>=0.10->ipython>=4.0.0; python_version >= \"3.3\"->ipywidgets>=7.5.0->lux-widget>=0.1.4->lux-api) (0.7.0)\n",
      "Requirement already satisfied: packaging in c:\\users\\gchandr4\\anaconda3\\lib\\site-packages (from bleach->nbconvert->notebook>=4.0.0->lux-widget>=0.1.4->lux-api) (20.4)\n",
      "Requirement already satisfied: webencodings in c:\\users\\gchandr4\\anaconda3\\lib\\site-packages (from bleach->nbconvert->notebook>=4.0.0->lux-widget>=0.1.4->lux-api) (0.5.1)\n",
      "Requirement already satisfied: nest-asyncio in c:\\users\\gchandr4\\anaconda3\\lib\\site-packages (from nbclient<0.6.0,>=0.5.0->nbconvert->notebook>=4.0.0->lux-widget>=0.1.4->lux-api) (1.4.2)\n",
      "Requirement already satisfied: async-generator in c:\\users\\gchandr4\\anaconda3\\lib\\site-packages (from nbclient<0.6.0,>=0.5.0->nbconvert->notebook>=4.0.0->lux-widget>=0.1.4->lux-api) (1.10)\n",
      "Requirement already satisfied: pycparser in c:\\users\\gchandr4\\anaconda3\\lib\\site-packages (from cffi>=1.0.0->argon2-cffi->notebook>=4.0.0->lux-widget>=0.1.4->lux-api) (2.20)\n",
      "\n"
     ]
    }
   ],
   "source": [
    "#Install Lux API \n",
    "pip install lux-api"
   ]
  },
  {
   "cell_type": "code",
   "execution_count": 2,
   "metadata": {},
   "outputs": [
    {
     "name": "stderr",
     "output_type": "stream",
     "text": [
      "Installing C:\\Users\\gchandr4\\Anaconda3\\lib\\site-packages\\luxwidget\\nbextension/static -> luxwidget\n",
      "Up to date: C:\\ProgramData\\jupyter\\nbextensions\\luxwidget\\extension.js\n",
      "Up to date: C:\\ProgramData\\jupyter\\nbextensions\\luxwidget\\index.js\n",
      "Up to date: C:\\ProgramData\\jupyter\\nbextensions\\luxwidget\\index.js.map\n",
      "- Validating: ok\n",
      "\n",
      "    To initialize this nbextension in the browser every time the notebook (or other app) loads:\n",
      "    \n",
      "          jupyter nbextension enable luxwidget --py\n",
      "    \n",
      "Enabling notebook extension luxwidget/extension...\n",
      "      - Validating: ok\n"
     ]
    }
   ],
   "source": [
    "#Install luxwidget to load all visualizations and this is a mandatory step\n",
    "!jupyter nbextension install --py luxwidget\n",
    "!jupyter nbextension enable --py luxwidget"
   ]
  },
  {
   "cell_type": "code",
   "execution_count": 3,
   "metadata": {},
   "outputs": [],
   "source": [
    "#Import Lux, Pandas and OS libraries\n",
    "import lux\n",
    "import pandas as pd\n",
    "import os"
   ]
  },
  {
   "cell_type": "code",
   "execution_count": 4,
   "metadata": {},
   "outputs": [],
   "source": [
    "#Function to download and read delivery data CSV file\n",
    "DATA_FILES_PATH = r\"C:\\\\Users\\\\gchandr4\\\\Documents\\\\Blogs\\\\LUX\"\n",
    "def load_customer_data(data_path=DATA_FILES_PATH):\n",
    "    csv_path = os.path.join(data_path, \"customer_data_lux.csv\")\n",
    "    return pd.read_csv(csv_path)"
   ]
  },
  {
   "cell_type": "code",
   "execution_count": 5,
   "metadata": {},
   "outputs": [],
   "source": [
    "#load the data\n",
    "df = load_customer_data()"
   ]
  },
  {
   "cell_type": "code",
   "execution_count": 6,
   "metadata": {},
   "outputs": [
    {
     "data": {
      "application/vnd.jupyter.widget-view+json": {
       "model_id": "f4a0dc90f10743fa8a2cd06fda9ca2d4",
       "version_major": 2,
       "version_minor": 0
      },
      "text/plain": [
       "Button(description='Toggle Pandas/Lux', layout=Layout(top='5px', width='140px'), style=ButtonStyle())"
      ]
     },
     "metadata": {},
     "output_type": "display_data"
    },
    {
     "data": {
      "application/vnd.jupyter.widget-view+json": {
       "model_id": "81c4fb7624e948b9a30c4a21a2fd7d58",
       "version_major": 2,
       "version_minor": 0
      },
      "text/plain": [
       "Output()"
      ]
     },
     "metadata": {},
     "output_type": "display_data"
    }
   ],
   "source": [
    "#Display Pandas data\n",
    "df"
   ]
  },
  {
   "cell_type": "code",
   "execution_count": null,
   "metadata": {},
   "outputs": [],
   "source": []
  }
 ],
 "metadata": {
  "kernelspec": {
   "display_name": "Python 3",
   "language": "python",
   "name": "python3"
  },
  "language_info": {
   "codemirror_mode": {
    "name": "ipython",
    "version": 3
   },
   "file_extension": ".py",
   "mimetype": "text/x-python",
   "name": "python",
   "nbconvert_exporter": "python",
   "pygments_lexer": "ipython3",
   "version": "3.8.5"
  }
 },
 "nbformat": 4,
 "nbformat_minor": 4
}
